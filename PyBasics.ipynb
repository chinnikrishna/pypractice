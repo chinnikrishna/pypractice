{
 "cells": [
  {
   "cell_type": "markdown",
   "id": "criminal-phone",
   "metadata": {},
   "source": [
    "# Python Basics\n",
    "1. Lists\n",
    "2. Dictionaries\n",
    "3. Functions\n"
   ]
  },
  {
   "cell_type": "code",
   "execution_count": 1,
   "id": "quantitative-chess",
   "metadata": {},
   "outputs": [],
   "source": [
    "vara = 10"
   ]
  },
  {
   "cell_type": "code",
   "execution_count": 2,
   "id": "supposed-cable",
   "metadata": {},
   "outputs": [
    {
     "data": {
      "text/plain": [
       "10"
      ]
     },
     "execution_count": 2,
     "metadata": {},
     "output_type": "execute_result"
    }
   ],
   "source": [
    "vara"
   ]
  },
  {
   "cell_type": "code",
   "execution_count": 5,
   "id": "incorporate-wales",
   "metadata": {},
   "outputs": [],
   "source": [
    "var1 = 1\n",
    "var2 = 10\n",
    "var3 = 20"
   ]
  },
  {
   "cell_type": "code",
   "execution_count": 6,
   "id": "communist-castle",
   "metadata": {},
   "outputs": [
    {
     "name": "stdout",
     "output_type": "stream",
     "text": [
      "1\n",
      "10\n",
      "20\n"
     ]
    }
   ],
   "source": [
    "print(var1)\n",
    "print(var2)\n",
    "print(var3)"
   ]
  },
  {
   "cell_type": "code",
   "execution_count": 8,
   "id": "textile-grain",
   "metadata": {},
   "outputs": [
    {
     "name": "stdout",
     "output_type": "stream",
     "text": [
      "[10, 20, 456, 123, 24, 43]\n",
      "[10, 23.0, 'nameme', [10, 20, 456, 123, 24, 43]]\n",
      "[]\n",
      "[]\n"
     ]
    }
   ],
   "source": [
    "# Lists\n",
    "list_of_marks = [10, 20, 456, 123, 24, 43]\n",
    "mixed_list = [10, 23.0, 'nameme', list_of_marks]\n",
    "empty_list = []\n",
    "empty_list2 = list()\n",
    "\n",
    "print(list_of_marks)\n",
    "print(mixed_list)\n",
    "print(empty_list)\n",
    "print(empty_list2)"
   ]
  },
  {
   "cell_type": "code",
   "execution_count": 9,
   "id": "democratic-amino",
   "metadata": {},
   "outputs": [
    {
     "name": "stdout",
     "output_type": "stream",
     "text": [
      "6\n",
      "4\n"
     ]
    }
   ],
   "source": [
    "print(len(list_of_marks))\n",
    "print(len(mixed_list))"
   ]
  },
  {
   "cell_type": "code",
   "execution_count": 17,
   "id": "neither-camera",
   "metadata": {
    "scrolled": false
   },
   "outputs": [
    {
     "name": "stdout",
     "output_type": "stream",
     "text": [
      "[10, 20, 24, 43, 123, 456]\n"
     ]
    }
   ],
   "source": [
    "print(list_of_marks)"
   ]
  },
  {
   "cell_type": "code",
   "execution_count": 22,
   "id": "existing-timothy",
   "metadata": {},
   "outputs": [
    {
     "name": "stdout",
     "output_type": "stream",
     "text": [
      "10\n",
      "[20, 24, 43]\n",
      "[20, 24, 43, 123, 456]\n",
      "[10, 20, 24, 43]\n"
     ]
    }
   ],
   "source": [
    "print(list_of_marks[0])\n",
    "print(list_of_marks[1:4])\n",
    "print(list_of_marks[1:])\n",
    "print(list_of_marks[:4])"
   ]
  },
  {
   "cell_type": "code",
   "execution_count": 29,
   "id": "mounted-consequence",
   "metadata": {},
   "outputs": [
    {
     "name": "stdout",
     "output_type": "stream",
     "text": [
      "0\n",
      "10\n",
      "2\n",
      "24\n",
      "4\n",
      "123\n"
     ]
    }
   ],
   "source": [
    "# for(i=0; i<value; i=i+3)\n",
    "for i in range(0, len(list_of_marks), 2):\n",
    "    print(i)\n",
    "    print(list_of_marks[i])"
   ]
  },
  {
   "cell_type": "code",
   "execution_count": 30,
   "id": "dependent-plate",
   "metadata": {},
   "outputs": [
    {
     "name": "stdout",
     "output_type": "stream",
     "text": [
      "[20, 40, 48, 86, 246, 912]\n"
     ]
    }
   ],
   "source": [
    "double_marks = []\n",
    "for i in range(len(list_of_marks)):\n",
    "    double_marks.append(list_of_marks[i] * 2)\n",
    "print(double_marks)"
   ]
  },
  {
   "cell_type": "code",
   "execution_count": 31,
   "id": "expressed-operator",
   "metadata": {},
   "outputs": [
    {
     "name": "stdout",
     "output_type": "stream",
     "text": [
      "[20, 40, 48, 86, 246, 912]\n"
     ]
    }
   ],
   "source": [
    "dmarks = [list_of_marks[i] * 2 for i in range(len(list_of_marks))]\n",
    "print(dmarks)"
   ]
  },
  {
   "cell_type": "code",
   "execution_count": 39,
   "id": "respected-outreach",
   "metadata": {},
   "outputs": [],
   "source": [
    "import matplotlib.pyplot as plt\n",
    "from sklearn import datasets\n",
    "import numpy as np"
   ]
  },
  {
   "cell_type": "code",
   "execution_count": 33,
   "id": "fantastic-wallet",
   "metadata": {},
   "outputs": [],
   "source": [
    "iris = datasets.load_iris()"
   ]
  },
  {
   "cell_type": "code",
   "execution_count": 37,
   "id": "hungry-iraqi",
   "metadata": {},
   "outputs": [],
   "source": [
    "data = iris['data']"
   ]
  },
  {
   "cell_type": "code",
   "execution_count": 40,
   "id": "synthetic-encyclopedia",
   "metadata": {},
   "outputs": [
    {
     "data": {
      "text/plain": [
       "(150, 4)"
      ]
     },
     "execution_count": 40,
     "metadata": {},
     "output_type": "execute_result"
    }
   ],
   "source": [
    "data.shape"
   ]
  },
  {
   "cell_type": "code",
   "execution_count": 43,
   "id": "helpful-bandwidth",
   "metadata": {},
   "outputs": [
    {
     "name": "stdout",
     "output_type": "stream",
     "text": [
      "[[1, 2, 3, 4], [3, 7, 9, 2]]\n"
     ]
    }
   ],
   "source": [
    "two_list = [[1, 2, 3, 4], [3, 7, 9, 2]]\n",
    "print(two_list)"
   ]
  },
  {
   "cell_type": "code",
   "execution_count": 57,
   "id": "tested-vacation",
   "metadata": {},
   "outputs": [
    {
     "name": "stdout",
     "output_type": "stream",
     "text": [
      "{'dog': ['kidA', 'kidD'], 'tortoise': 'kidB', 'macaw': 'kidC', 'snake': 'kidD'}\n"
     ]
    }
   ],
   "source": [
    "# Key and Value Pairs\n",
    "simple_dict = {'dog': ['kidA', 'kidD'], 'tortoise': 'kidB', 'macaw': 'kidC', 'snake': 'kidD'}\n",
    "print(simple_dict)"
   ]
  },
  {
   "cell_type": "code",
   "execution_count": 63,
   "id": "dated-council",
   "metadata": {},
   "outputs": [
    {
     "name": "stdout",
     "output_type": "stream",
     "text": [
      "20\n",
      "6\n"
     ]
    }
   ],
   "source": [
    "def smallest_num(x):\n",
    "    small_num = x[0]\n",
    "    for i in x:\n",
    "        if i < small_num:\n",
    "            small_num = i\n",
    "    return small_num\n",
    "\n",
    "silly_list = [20, 34, 23, 62]\n",
    "silly_list2 = [20, 34, 23, 62, 234, 63, 6, 45]\n",
    "silly_list3 = [20, 34, 23]\n",
    "\n",
    "si_list =\n",
    "for i in range(len)\n",
    "\n",
    "print(smallest_num(silly_list))\n",
    "print(smallest_num(silly_list2))\n",
    "        \n",
    "            "
   ]
  },
  {
   "cell_type": "code",
   "execution_count": null,
   "id": "foster-valentine",
   "metadata": {},
   "outputs": [],
   "source": [
    "[20, 34, 23, 62] [234, 63] [6, 45]\n",
    "[20, 34] [23, 62] [64, 234] [6, 45]"
   ]
  }
 ],
 "metadata": {
  "kernelspec": {
   "display_name": "Python 3",
   "language": "python",
   "name": "python3"
  },
  "language_info": {
   "codemirror_mode": {
    "name": "ipython",
    "version": 3
   },
   "file_extension": ".py",
   "mimetype": "text/x-python",
   "name": "python",
   "nbconvert_exporter": "python",
   "pygments_lexer": "ipython3",
   "version": "3.6.12"
  }
 },
 "nbformat": 4,
 "nbformat_minor": 5
}
